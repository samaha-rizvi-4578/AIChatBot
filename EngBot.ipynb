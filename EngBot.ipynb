{
  "cells": [
    {
      "cell_type": "code",
      "execution_count": 2,
      "metadata": {
        "id": "rq-PJMFxIUra"
      },
      "outputs": [],
      "source": [
        "#ai based chat bot "
      ]
    },
    {
      "cell_type": "code",
      "execution_count": 3,
      "metadata": {
        "colab": {
          "base_uri": "https://localhost:8080/",
          "height": 130
        },
        "id": "4KUEf6ZpIbDB",
        "outputId": "d82e2dcb-d151-48d2-a853-9fa74c3bc029"
      },
      "outputs": [],
      "source": [
        "#pip install nltk\n",
        "  "
      ]
    },
    {
      "cell_type": "code",
      "execution_count": 4,
      "metadata": {
        "id": "PGhDaGPCIbEO"
      },
      "outputs": [],
      "source": [
        "#pip install newspaper3k\n",
        "#pip install scikit-learn"
      ]
    },
    {
      "cell_type": "code",
      "execution_count": 5,
      "metadata": {
        "id": "nC4AtMRqI0ds"
      },
      "outputs": [],
      "source": [
        "from newspaper import Article\n",
        "import random\n",
        "import string\n",
        "import nltk\n",
        "from sklearn.feature_extraction.text import CountVectorizer\n",
        "from sklearn.metrics.pairwise import cosine_similarity\n",
        "import numpy as np\n",
        "import warnings\n",
        "warnings.filterwarnings('ignore')\n"
      ]
    },
    {
      "cell_type": "code",
      "execution_count": 6,
      "metadata": {
        "colab": {
          "base_uri": "https://localhost:8080/"
        },
        "id": "v9-6CrvZJUxR",
        "outputId": "82c4142c-f5b8-46ba-e927-b2834556fe7e"
      },
      "outputs": [
        {
          "data": {
            "text/plain": [
              "True"
            ]
          },
          "execution_count": 6,
          "metadata": {},
          "output_type": "execute_result"
        }
      ],
      "source": [
        "#download package\n",
        "nltk.download('punkt', quiet=True)"
      ]
    },
    {
      "cell_type": "code",
      "execution_count": 7,
      "metadata": {
        "id": "7dtqj-oOJgbA"
      },
      "outputs": [],
      "source": [
        "#get article\n",
        "article = Article('https://www.twi-global.com/technical-knowledge/faqs/what-is-engineering#:~:text=Engineering%20involves%20the%20application%20of,range%20of%20industries%20and%20applications.')\n",
        "article.download()\n",
        "article.parse()\n",
        "article.nlp()\n",
        "corpus = article.text"
      ]
    },
    {
      "cell_type": "code",
      "execution_count": 8,
      "metadata": {
        "colab": {
          "base_uri": "https://localhost:8080/"
        },
        "id": "CAOYUEBuJ5xH",
        "outputId": "98159dca-e0d9-4131-b6be-80fa9e35c7fd"
      },
      "outputs": [
        {
          "name": "stdout",
          "output_type": "stream",
          "text": [
            "Engineering is the application of science and maths to solve problems. While scientists and inventors come up with innovations, it is engineers who apply these discoveries to the real world.\n",
            "\n",
            "Engineering is part of STEM education, which aims to engage students with science, technology, engineering and mathematics yet, as a discipline, it has been practiced for thousands of years.\n",
            "\n",
            "You can see examples of engineering in the Pyramids of Giza, at Stonehenge, the Parthenon and elsewhere. Yet, today’s engineers operate in many different areas as well as building structures.\n",
            "\n",
            "Engineers work on everything from cell membranes to construction and prosthetics to improving engine and transport efficiencies and developing renewable energy resources.\n",
            "\n",
            "While engineering dates right back to the invention of the wheel (and beyond), the term itself comes from the word engineer, which goes back to the 14th century, when an ‘engine’er’ meant someone who constructed military engines like catapults and other ‘siege engines.’ This military meaning can still be seen in use today with the Corps of Royal Engineers and the U.S. Army Corps of Engineers.\n",
            "\n",
            "The word ‘engine’ itself comes from the Latin word ‘ingenium’ (c. 1250), which means ‘innate quality, especially mental power, hence a clever invention.’\n",
            "\n",
            "Engineering developed beyond military applications and began to be applied to civilian structures like bridges and buildings, leading to the creation of the term civil engineering, to differentiate it from the original military engineering field.\n",
            "\n",
            "Engineers are involved in the design, evaluation, development, testing, modification, inspection and maintaining of a wide range of products, structures and systems. This involves everything from the recommending of materials and processes, overseeing manufacturing and construction processes, and conducting failure analysis and investigation, to providing consultancy services and teaching engineering to students and trainees.\n",
            "\n",
            "There are many different types of engineering, often divided into areas in which the engineer operates. For example, engineers working within the oil and gas industry could be petroleum engineers, while those working in farming-related applications could be called agricultural engineers.\n",
            "\n",
            "While there are some traditional areas of engineering, such as mechanical and civil engineering, other engineering fields require an overlapping of different specialities. So, for example, a civil engineer may also need an understanding of structural engineering or an aerospace engineer may need to understand aspects of electrical or computer engineering too.\n",
            "\n",
            "These types of engineering are commonly known as interdisciplinary engineering and include manufacturing engineering, acoustic engineering, corrosion engineering, aerospace, automotive, computer, textiles, geological, materials and nuclear engineering, among others. These areas of engineering are all among the branches of engineering that are represented by the 36 licensed member institutions of the UK Engineering Council.\n",
            "\n",
            "Here are some of the traditional and more common interdisciplinary engineering fields:\n",
            "\n",
            "1. Mechanical Engineering\n",
            "\n",
            "Mechanical engineers are involved in the design, manufacture, inspection and maintenance of machinery, equipment and components such as vehicles, engines, aerospace products, weapon systems, robotics, turbines, construction and farm machinery, as well as a wide range of tools and devices. This type of engineering is also associated with the management of control systems and instruments for measuring the performance and status of machinery.\n",
            "\n",
            "Find out more\n",
            "\n",
            "2. Electrical Engineering\n",
            "\n",
            "Electrical engineers work on the design, testing, manufacture, construction, control, monitoring and inspection of electrical and electronic devices, components, machines and systems. These range in size from the smallest microchips to large transmission and power generation systems. This includes everything from broadcast engineering to electromagnetic devices, computer systems, telecommunications and more.\n",
            "\n",
            "Find out more\n",
            "\n",
            "3. Civil Engineering\n",
            "\n",
            "Civil engineers are involved in the design, construction, maintenance and inspection of large civil infrastructure projects, including roads, railways, bridges, tunnels and dams.\n",
            "\n",
            "Working on both public and private projects, civil engineers traditionally work in sub-disciplines such as environmental engineering, structural engineering or surveying.\n",
            "\n",
            "As mentioned above, civil engineering was originally created to differentiate it from military engineering.\n",
            "\n",
            "Find out more\n",
            "\n",
            "4. Aerospace Engineering\n",
            "\n",
            "As a specialised branch of mechanical and electrical engineering, aerospace engineering focuses on the design, manufacture and testing of aircraft and spacecraft, including all parts and components. Covering everything from vehicle aerodynamics and efficiencies to electrical control and navigation systems, much of the expertise is also used for other vehicles, such as cars.\n",
            "\n",
            "Find out more\n",
            "\n",
            "5. Nuclear Engineering\n",
            "\n",
            "Nuclear engineers work on the design, manufacture, construction, operation, and testing of the equipment, systems and processes for the production and control of nuclear power. From nuclear power plant reactors to particle accelerators, nuclear engineers also work on factors such as monitoring and the storage of nuclear waste in order to protect people from potentially harmful situations.\n",
            "\n",
            "6. Biomedical Engineering\n",
            "\n",
            "Biomedical engineers are concerned with the design of systems, equipment and devices for use in healthcare and medicine. By working with medical specialists such as doctors, therapists and researchers, biomedical engineers are able to meet the requirements of healthcare professionals.\n",
            "\n",
            "7. Chemical Engineering\n",
            "\n",
            "Chemical engineers use physics, chemistry, biology and engineering principles for the design of equipment, systems and processes for refining raw materials for mixing, compounding and processing chemicals for a variety of products. Carrying out processes on a commercial scale, chemical engineers are involved in processes ranging from petroleum refining to fermentation and the production of biomolecules.\n",
            "\n",
            "Find out more\n",
            "\n",
            "8. Computer Engineering\n",
            "\n",
            "Computer engineers design computer hardware, systems, networks and software. Computer engineering combines other engineering disciplines, such as electrical engineering and computer science, as well as software engineering and design.\n",
            "\n",
            "9. Industrial Engineering\n",
            "\n",
            "Industrial engineers design and optimise facilities, equipment and systems for manufacturing, materials processing and other industrial applications.\n",
            "\n",
            "Find out more\n",
            "\n",
            "10. Environmental Engineering\n",
            "\n",
            "Environmental engineers are concerned with the prevention, removal and elimination of sources of pollution that affect the environment. Measuring pollution levels, determining sources of pollution and cleaning up polluted areas, these engineers need to work in compliance with government regulations.\n",
            "\n",
            "Find out more\n",
            "\n",
            "11. Marine Engineering\n",
            "\n",
            "Marine engineering is related to any engineering tasks on or near the oceans. This includes design and development for shipping, submarines, oil rigs, on-board, harbours, plants and more. This specialised area of engineering combines other types of engineering, including mechanical engineering, electrical engineering, civil engineering, and programming.\n",
            "\n",
            "Find out more\n",
            "\n",
            "12. Geotechnical Engineering\n",
            "\n",
            "Geotechnical engineering is an area of civil engineering that focuses on the engineering behaviour of earth materials. Using the principles of soil and rock mechanics, this subdiscipline of geological engineering uses knowledge of geology, geophysics, hydrology and more.\n",
            "\n",
            "Find out more\n",
            "\n",
            "Engineering has been a part of human history, in one form or another, for thousands of years. Of course, as our knowledge and understanding of science and mathematics grew, so our engineering expertise and competence also improved.\n",
            "\n",
            "Today’s engineers use the most advanced technologies, alongside established scientific principles, to apply cutting-edge solutions and innovation to real world challenges.\n",
            "\n",
            "It is hard to over-emphasise the importance of engineering on human history, from designing transportation systems to powering our homes, engineering is all around us, right down to the device you are using to read this.\n",
            "\n",
            "As our scientific knowledge continues to advance, so engineering will find ways to take this new information and apply it to the world around us.\n",
            "\n",
            "Engineering is all around us and is an integral part of our everyday lives. It is something that many people take for granted, but it is engineering that allows you to make a coffee in the morning, heats or cools your home, allows you to travel, communicate on your mobile device, and so much more besides.\n",
            "\n",
            "As James A. Michener wrote in his 1983 novel, Space, \"Scientists dream about doing great things. Engineers do them.\"\n",
            "\n",
            "TWI’s engineering expertise covers a range of industrial applications, from automotive to power generation and aerospace to marine, as we work to offer support and solutions to our Industrial Members.\n",
            "\n",
            "Contact us, below, to find out more.\n",
            "\n",
            "contactus@twi.co.uk\n",
            "\n",
            "FAQs\n",
            "\n",
            "How does engineering help the world?\n",
            "\n",
            "Engineers shape the world around us, innovating solutions to our problems and creating new technologies to help advance society. This ranges from air or space travel to electronics engineering and through to water supply engineering to make sure those in remote communities have access to fresh, clean water.\n",
            "\n",
            "Helping those in need through the development of new technologies to prevent disease or protecting the planet from environmental issues, engineers use science, maths and problem solving to find answers to both local and global challenges.\n",
            "\n",
            "Can engineering solve any problem?\n",
            "\n",
            "Engineering cannot literally solve any problem, but it can be used to solve a wide range of them. Engineers work within the bounds of reality, finding real-world solutions to real-world problems. Many engineering problems have more than one solution, allowing engineers to find the most suitable one given the resources at hand.\n",
            "\n",
            "Where did engineering come from?\n",
            "\n",
            "Engineering has existed since ancient times with the invention of the wheel, pulley, wedge and lever. However, the first named civil engineer is Imhotep, who is believed to have designed and supervised the construction of the Pyramid of Djoser (the Step Pyramid) at Saqqara in Egypt around 2630–2611 BC.\n",
            "\n",
            "Despite its roots in antiquity, it wasn’t until 1390 when the word engineer came into use. Originally known as ‘engine’ers’ these specialists were responsible for the construction of military engines, such as catapults, ballista, the trebuchet and other siege engines and engines of war. This military connection can still be seen with the Corps of Royal Engineers and the U.S. Army Corps of Engineers. This later led to the creation of civil engineering and other engineering disciplines distinct from military engineering.\n",
            "\n",
            "Since then, engineering graduates have gone on to work in a range of disciplines including aeronautical, chemical, mechanical, civil, computer, electrical, and other types of engineering (see above). Each of these types of engineering deals with different specialities – although there is a degree of cross-over between disciplines as solutions are shared across industry.\n",
            "\n",
            "Where can engineering take you?\n",
            "\n",
            "Engineering can literally take you around the world, travelling to work on projects in foreign countries, as well as being an in-demand and well-paid career choice.\n",
            "\n",
            "Walking the line between academia and a vocational discipline, engineering combines soft skills and academic knowledge with a practical application. In addition, it opens up potential opportunities in consulting, technical writing, manufacturing, logistics, business and more.\n",
            "\n",
            "Will engineering be automated?\n",
            "\n",
            "Automation is spreading though many industries, including engineering, with the advent of the fourth industrial revolution. As increased automation removes repeatable tasks from workplaces, there have been concerns that roles will be replaced. These concerns existed during the previous industrial revolutions, but were ultimately unfounded. This looks set to be the case with this fourth wave of concern as engineering still has an emphasis on human-focused activities such as design, quality control and problem resolution.\n",
            "\n",
            "Automation has seeped into engineering over the decades but, rather than replacing people, the use of automation frees up engineers to solve challenges, innovate and move to more specialised roles and duties.\n",
            "\n",
            "Will engineers be needed in the future?\n",
            "\n",
            "Engineers will certainly be needed in the future and, in fact, many forecasts say that the demand for engineers will actually increase. Engineering has one of the lowest unemployment rates of any large job sectors and, as technology continues to evolve, engineers will remain integral to solving our problems and delivering innovations to society.\n",
            "\n",
            "Will engineers be replaced by robots / AI?\n",
            "\n",
            "With an Oxford University study estimating that nearly 50% of the jobs in the United States are at risk of being automated in the next twenty years, it is understandable that people are concerned about job security.\n",
            "\n",
            "However, it is more likely that the increase in artificial intelligence and robotic systems will actually have a positive impact. Routine and simple tasks can be easily automated but there are many more complex and nuanced roles that will still require humans. Indeed technological advancements in the past have created new jobs, including researching and maintaining the very systems that people fear will replace them.\n",
            "\n",
            "In fact, while robots take on the more mundane tasks, it means that people will be able to use their time completing more engaging work, such as design, R&D, and those roles where communicating with other people is important.\n",
            "\n",
            "Rather than replacing humans, it seems that robots and A.I. will provide more engaging work opportunities for people – leaving the tedious tasks to the machines.\n",
            "\n",
            "Where is engineering going in the future?\n",
            "\n",
            "It is difficult to forecast where engineering will go in the future but many of the skills required of engineers today will still be relevant in the future, such as analytical skills, creativity, communication skills, ethics, agility, and the pursuit of continuous learning.\n",
            "\n",
            "With technology continuing to advance and the increase in automation, professionals with an ability to work with technology and electronics will be sought after. Being able to use smart devices and a joined up, Internet of Things (IoT) approach also looks set to be important.\n",
            "\n",
            "Engineers working at hazardous locations could be remotely monitored with devices to check their location and ensure their safety, and an increased use of automation and electronics will mean that software and embedded systems will become increasingly important. Engineering will also become more streamlined as lean processes are rolled out across industries, removing unnecessary tasks and making processes as efficient as possible.\n",
            "\n",
            "Should I study engineering?\n",
            "\n",
            "Engineering is a great choice for people who like to learn new things, make a difference, earn a good wage, and enjoy excellent employment prospects.\n",
            "\n",
            "Skilled and qualified engineers are in high demand across a range of industries and many enjoy good wages and benefits.\n",
            "\n",
            "However, you will need to keep your skills up-to-date during your career and so will need to learn new things. However, with that being said, the more skilled you are, the more in demand you become, the higher wage you can command, and the more opportunities you will have to travel or work on different projects.\n",
            "\n",
            "Are engineering jobs in demand?\n",
            "\n",
            "Engineering jobs tend to be in high demand due to the many projects that are occurring across all areas of society. However, you must also take account of the fact that demand is driven by global or local necessity, so certain industries will be more buoyant than others at different times.\n",
            "\n",
            "Is engineering hard to study?\n",
            "\n",
            "Like any subject, engineering becomes more in-depth and complex the further you go with your studies. However, it does require a grasp of maths and science as well as being able to apply common sense and logic to solve problems.\n",
            "\n",
            "Although it has been said that engineering ranks as one of the more difficult degrees, engineer educators have experience in helping their students through to graduation, so if an engineering degree interests you and you think you have what it takes, then you should certainly not be put off.\n",
            "\n",
            "What do you study in engineering?\n",
            "\n",
            "Engineering involves the application of the principles of science and mathematics to solve real world problems and to innovate new products and processes across a wide range of industries and applications. Designing, testing and building structures, machines, devices and processes using maths and science is all part of an engineer’s role, so there will be certain similarities in study. However, the details will change depending on which field of engineering you study, from aerospace and chemical to civil and electronics through to mechanical engineering and beyond.\n",
            "\n",
            "Can engineering technicians become engineers?\n",
            "\n",
            "Engineering technicians can become engineers with the addition of the right skills and qualifications. You can find out more about becoming an EngTech here.\n",
            "\n",
            "Can engineering be self-taught?\n",
            "\n",
            "It is certainly possible to learn aspects of engineering on your own, but you will still need to be assessed and get a qualification before you are able to work as a professional. There are also aspects of engineering, particularly the more hands-on aspects, that are difficult to learn on your own. It also depends on which area of engineering you are interested in!\n",
            "\n",
            "As such, we would recommend you seek proper training if you want to become an engineer.\n",
            "\n",
            "Why engineering is important\n",
            "\n",
            "Engineering is all around us, from the device you are reading this on to the buildings we live in, cars we drive and more. From bridges to computers and medical devices to railways – engineers have been involved at some step of the way. Although they are not required in every business, they will still have been involved in setting up or creating initial technologies.\n",
            "\n",
            "Engineering is critical to industrial innovation, combining scientific and mathematical principles with practical knowhow to deliver products, services and processes.\n",
            "\n",
            "Engineers keep pushing humankind forward, developing new innovations, protecting lives, preventing diseases and helping to keep the planet itself safe and clean. Certainly, industry has been responsible for problems such as fossil fuel use and the associated climate change, but it is to engineering we must turn to solve the crisis and deliver sustainable alternatives.\n",
            "\n",
            "As real world problem solvers, engineers continue to be important across all parts of society.\n",
            "\n",
            "Why engineering is a good career\n",
            "\n",
            "Aside from the good job prospects and security, as well as the higher average wages, engineering is a good career because it gives you the opportunity to work for the benefit of society.\n",
            "\n",
            "Whether it is through improved transportation systems, delivering better medical devices and technologies, finding new cleaner energy sources, increasing living standards for underdeveloped nations or solving the problem of global hunger, engineering plays a part in changing people’s lives for the better.\n",
            "\n",
            "The career can bring you a great many personal benefits, such as travel, high rates of pay and good job security, but it also gives you the opportunity to use your knowledge, skills and experience to make a real difference to the world.\n"
          ]
        }
      ],
      "source": [
        "print(corpus)"
      ]
    },
    {
      "cell_type": "code",
      "execution_count": 9,
      "metadata": {
        "id": "u9gA4Sv4KF7e"
      },
      "outputs": [],
      "source": [
        "#tokenization\n",
        "text = corpus\n",
        "sentence_list = nltk.sent_tokenize(text)"
      ]
    },
    {
      "cell_type": "code",
      "execution_count": 10,
      "metadata": {
        "colab": {
          "base_uri": "https://localhost:8080/"
        },
        "id": "gffOYxIGKPre",
        "outputId": "c0d273cc-53db-4725-d30d-c6b8b3aa6219"
      },
      "outputs": [
        {
          "name": "stdout",
          "output_type": "stream",
          "text": [
            "['Engineering is the application of science and maths to solve problems.', 'While scientists and inventors come up with innovations, it is engineers who apply these discoveries to the real world.', 'Engineering is part of STEM education, which aims to engage students with science, technology, engineering and mathematics yet, as a discipline, it has been practiced for thousands of years.', 'You can see examples of engineering in the Pyramids of Giza, at Stonehenge, the Parthenon and elsewhere.', 'Yet, today’s engineers operate in many different areas as well as building structures.', 'Engineers work on everything from cell membranes to construction and prosthetics to improving engine and transport efficiencies and developing renewable energy resources.', 'While engineering dates right back to the invention of the wheel (and beyond), the term itself comes from the word engineer, which goes back to the 14th century, when an ‘engine’er’ meant someone who constructed military engines like catapults and other ‘siege engines.’ This military meaning can still be seen in use today with the Corps of Royal Engineers and the U.S. Army Corps of Engineers.', 'The word ‘engine’ itself comes from the Latin word ‘ingenium’ (c. 1250), which means ‘innate quality, especially mental power, hence a clever invention.’\\n\\nEngineering developed beyond military applications and began to be applied to civilian structures like bridges and buildings, leading to the creation of the term civil engineering, to differentiate it from the original military engineering field.', 'Engineers are involved in the design, evaluation, development, testing, modification, inspection and maintaining of a wide range of products, structures and systems.', 'This involves everything from the recommending of materials and processes, overseeing manufacturing and construction processes, and conducting failure analysis and investigation, to providing consultancy services and teaching engineering to students and trainees.', 'There are many different types of engineering, often divided into areas in which the engineer operates.', 'For example, engineers working within the oil and gas industry could be petroleum engineers, while those working in farming-related applications could be called agricultural engineers.', 'While there are some traditional areas of engineering, such as mechanical and civil engineering, other engineering fields require an overlapping of different specialities.', 'So, for example, a civil engineer may also need an understanding of structural engineering or an aerospace engineer may need to understand aspects of electrical or computer engineering too.', 'These types of engineering are commonly known as interdisciplinary engineering and include manufacturing engineering, acoustic engineering, corrosion engineering, aerospace, automotive, computer, textiles, geological, materials and nuclear engineering, among others.', 'These areas of engineering are all among the branches of engineering that are represented by the 36 licensed member institutions of the UK Engineering Council.', 'Here are some of the traditional and more common interdisciplinary engineering fields:\\n\\n1.', 'Mechanical Engineering\\n\\nMechanical engineers are involved in the design, manufacture, inspection and maintenance of machinery, equipment and components such as vehicles, engines, aerospace products, weapon systems, robotics, turbines, construction and farm machinery, as well as a wide range of tools and devices.', 'This type of engineering is also associated with the management of control systems and instruments for measuring the performance and status of machinery.', 'Find out more\\n\\n2.', 'Electrical Engineering\\n\\nElectrical engineers work on the design, testing, manufacture, construction, control, monitoring and inspection of electrical and electronic devices, components, machines and systems.', 'These range in size from the smallest microchips to large transmission and power generation systems.', 'This includes everything from broadcast engineering to electromagnetic devices, computer systems, telecommunications and more.', 'Find out more\\n\\n3.', 'Civil Engineering\\n\\nCivil engineers are involved in the design, construction, maintenance and inspection of large civil infrastructure projects, including roads, railways, bridges, tunnels and dams.', 'Working on both public and private projects, civil engineers traditionally work in sub-disciplines such as environmental engineering, structural engineering or surveying.', 'As mentioned above, civil engineering was originally created to differentiate it from military engineering.', 'Find out more\\n\\n4.', 'Aerospace Engineering\\n\\nAs a specialised branch of mechanical and electrical engineering, aerospace engineering focuses on the design, manufacture and testing of aircraft and spacecraft, including all parts and components.', 'Covering everything from vehicle aerodynamics and efficiencies to electrical control and navigation systems, much of the expertise is also used for other vehicles, such as cars.', 'Find out more\\n\\n5.', 'Nuclear Engineering\\n\\nNuclear engineers work on the design, manufacture, construction, operation, and testing of the equipment, systems and processes for the production and control of nuclear power.', 'From nuclear power plant reactors to particle accelerators, nuclear engineers also work on factors such as monitoring and the storage of nuclear waste in order to protect people from potentially harmful situations.', '6.', 'Biomedical Engineering\\n\\nBiomedical engineers are concerned with the design of systems, equipment and devices for use in healthcare and medicine.', 'By working with medical specialists such as doctors, therapists and researchers, biomedical engineers are able to meet the requirements of healthcare professionals.', '7.', 'Chemical Engineering\\n\\nChemical engineers use physics, chemistry, biology and engineering principles for the design of equipment, systems and processes for refining raw materials for mixing, compounding and processing chemicals for a variety of products.', 'Carrying out processes on a commercial scale, chemical engineers are involved in processes ranging from petroleum refining to fermentation and the production of biomolecules.', 'Find out more\\n\\n8.', 'Computer Engineering\\n\\nComputer engineers design computer hardware, systems, networks and software.', 'Computer engineering combines other engineering disciplines, such as electrical engineering and computer science, as well as software engineering and design.', '9.', 'Industrial Engineering\\n\\nIndustrial engineers design and optimise facilities, equipment and systems for manufacturing, materials processing and other industrial applications.', 'Find out more\\n\\n10.', 'Environmental Engineering\\n\\nEnvironmental engineers are concerned with the prevention, removal and elimination of sources of pollution that affect the environment.', 'Measuring pollution levels, determining sources of pollution and cleaning up polluted areas, these engineers need to work in compliance with government regulations.', 'Find out more\\n\\n11.', 'Marine Engineering\\n\\nMarine engineering is related to any engineering tasks on or near the oceans.', 'This includes design and development for shipping, submarines, oil rigs, on-board, harbours, plants and more.', 'This specialised area of engineering combines other types of engineering, including mechanical engineering, electrical engineering, civil engineering, and programming.', 'Find out more\\n\\n12.', 'Geotechnical Engineering\\n\\nGeotechnical engineering is an area of civil engineering that focuses on the engineering behaviour of earth materials.', 'Using the principles of soil and rock mechanics, this subdiscipline of geological engineering uses knowledge of geology, geophysics, hydrology and more.', 'Find out more\\n\\nEngineering has been a part of human history, in one form or another, for thousands of years.', 'Of course, as our knowledge and understanding of science and mathematics grew, so our engineering expertise and competence also improved.', 'Today’s engineers use the most advanced technologies, alongside established scientific principles, to apply cutting-edge solutions and innovation to real world challenges.', 'It is hard to over-emphasise the importance of engineering on human history, from designing transportation systems to powering our homes, engineering is all around us, right down to the device you are using to read this.', 'As our scientific knowledge continues to advance, so engineering will find ways to take this new information and apply it to the world around us.', 'Engineering is all around us and is an integral part of our everyday lives.', 'It is something that many people take for granted, but it is engineering that allows you to make a coffee in the morning, heats or cools your home, allows you to travel, communicate on your mobile device, and so much more besides.', 'As James A. Michener wrote in his 1983 novel, Space, \"Scientists dream about doing great things.', 'Engineers do them.\"', 'TWI’s engineering expertise covers a range of industrial applications, from automotive to power generation and aerospace to marine, as we work to offer support and solutions to our Industrial Members.', 'Contact us, below, to find out more.', 'contactus@twi.co.uk\\n\\nFAQs\\n\\nHow does engineering help the world?', 'Engineers shape the world around us, innovating solutions to our problems and creating new technologies to help advance society.', 'This ranges from air or space travel to electronics engineering and through to water supply engineering to make sure those in remote communities have access to fresh, clean water.', 'Helping those in need through the development of new technologies to prevent disease or protecting the planet from environmental issues, engineers use science, maths and problem solving to find answers to both local and global challenges.', 'Can engineering solve any problem?', 'Engineering cannot literally solve any problem, but it can be used to solve a wide range of them.', 'Engineers work within the bounds of reality, finding real-world solutions to real-world problems.', 'Many engineering problems have more than one solution, allowing engineers to find the most suitable one given the resources at hand.', 'Where did engineering come from?', 'Engineering has existed since ancient times with the invention of the wheel, pulley, wedge and lever.', 'However, the first named civil engineer is Imhotep, who is believed to have designed and supervised the construction of the Pyramid of Djoser (the Step Pyramid) at Saqqara in Egypt around 2630–2611 BC.', 'Despite its roots in antiquity, it wasn’t until 1390 when the word engineer came into use.', 'Originally known as ‘engine’ers’ these specialists were responsible for the construction of military engines, such as catapults, ballista, the trebuchet and other siege engines and engines of war.', 'This military connection can still be seen with the Corps of Royal Engineers and the U.S. Army Corps of Engineers.', 'This later led to the creation of civil engineering and other engineering disciplines distinct from military engineering.', 'Since then, engineering graduates have gone on to work in a range of disciplines including aeronautical, chemical, mechanical, civil, computer, electrical, and other types of engineering (see above).', 'Each of these types of engineering deals with different specialities – although there is a degree of cross-over between disciplines as solutions are shared across industry.', 'Where can engineering take you?', 'Engineering can literally take you around the world, travelling to work on projects in foreign countries, as well as being an in-demand and well-paid career choice.', 'Walking the line between academia and a vocational discipline, engineering combines soft skills and academic knowledge with a practical application.', 'In addition, it opens up potential opportunities in consulting, technical writing, manufacturing, logistics, business and more.', 'Will engineering be automated?', 'Automation is spreading though many industries, including engineering, with the advent of the fourth industrial revolution.', 'As increased automation removes repeatable tasks from workplaces, there have been concerns that roles will be replaced.', 'These concerns existed during the previous industrial revolutions, but were ultimately unfounded.', 'This looks set to be the case with this fourth wave of concern as engineering still has an emphasis on human-focused activities such as design, quality control and problem resolution.', 'Automation has seeped into engineering over the decades but, rather than replacing people, the use of automation frees up engineers to solve challenges, innovate and move to more specialised roles and duties.', 'Will engineers be needed in the future?', 'Engineers will certainly be needed in the future and, in fact, many forecasts say that the demand for engineers will actually increase.', 'Engineering has one of the lowest unemployment rates of any large job sectors and, as technology continues to evolve, engineers will remain integral to solving our problems and delivering innovations to society.', 'Will engineers be replaced by robots / AI?', 'With an Oxford University study estimating that nearly 50% of the jobs in the United States are at risk of being automated in the next twenty years, it is understandable that people are concerned about job security.', 'However, it is more likely that the increase in artificial intelligence and robotic systems will actually have a positive impact.', 'Routine and simple tasks can be easily automated but there are many more complex and nuanced roles that will still require humans.', 'Indeed technological advancements in the past have created new jobs, including researching and maintaining the very systems that people fear will replace them.', 'In fact, while robots take on the more mundane tasks, it means that people will be able to use their time completing more engaging work, such as design, R&D, and those roles where communicating with other people is important.', 'Rather than replacing humans, it seems that robots and A.I.', 'will provide more engaging work opportunities for people – leaving the tedious tasks to the machines.', 'Where is engineering going in the future?', 'It is difficult to forecast where engineering will go in the future but many of the skills required of engineers today will still be relevant in the future, such as analytical skills, creativity, communication skills, ethics, agility, and the pursuit of continuous learning.', 'With technology continuing to advance and the increase in automation, professionals with an ability to work with technology and electronics will be sought after.', 'Being able to use smart devices and a joined up, Internet of Things (IoT) approach also looks set to be important.', 'Engineers working at hazardous locations could be remotely monitored with devices to check their location and ensure their safety, and an increased use of automation and electronics will mean that software and embedded systems will become increasingly important.', 'Engineering will also become more streamlined as lean processes are rolled out across industries, removing unnecessary tasks and making processes as efficient as possible.', 'Should I study engineering?', 'Engineering is a great choice for people who like to learn new things, make a difference, earn a good wage, and enjoy excellent employment prospects.', 'Skilled and qualified engineers are in high demand across a range of industries and many enjoy good wages and benefits.', 'However, you will need to keep your skills up-to-date during your career and so will need to learn new things.', 'However, with that being said, the more skilled you are, the more in demand you become, the higher wage you can command, and the more opportunities you will have to travel or work on different projects.', 'Are engineering jobs in demand?', 'Engineering jobs tend to be in high demand due to the many projects that are occurring across all areas of society.', 'However, you must also take account of the fact that demand is driven by global or local necessity, so certain industries will be more buoyant than others at different times.', 'Is engineering hard to study?', 'Like any subject, engineering becomes more in-depth and complex the further you go with your studies.', 'However, it does require a grasp of maths and science as well as being able to apply common sense and logic to solve problems.', 'Although it has been said that engineering ranks as one of the more difficult degrees, engineer educators have experience in helping their students through to graduation, so if an engineering degree interests you and you think you have what it takes, then you should certainly not be put off.', 'What do you study in engineering?', 'Engineering involves the application of the principles of science and mathematics to solve real world problems and to innovate new products and processes across a wide range of industries and applications.', 'Designing, testing and building structures, machines, devices and processes using maths and science is all part of an engineer’s role, so there will be certain similarities in study.', 'However, the details will change depending on which field of engineering you study, from aerospace and chemical to civil and electronics through to mechanical engineering and beyond.', 'Can engineering technicians become engineers?', 'Engineering technicians can become engineers with the addition of the right skills and qualifications.', 'You can find out more about becoming an EngTech here.', 'Can engineering be self-taught?', 'It is certainly possible to learn aspects of engineering on your own, but you will still need to be assessed and get a qualification before you are able to work as a professional.', 'There are also aspects of engineering, particularly the more hands-on aspects, that are difficult to learn on your own.', 'It also depends on which area of engineering you are interested in!', 'As such, we would recommend you seek proper training if you want to become an engineer.', 'Why engineering is important\\n\\nEngineering is all around us, from the device you are reading this on to the buildings we live in, cars we drive and more.', 'From bridges to computers and medical devices to railways – engineers have been involved at some step of the way.', 'Although they are not required in every business, they will still have been involved in setting up or creating initial technologies.', 'Engineering is critical to industrial innovation, combining scientific and mathematical principles with practical knowhow to deliver products, services and processes.', 'Engineers keep pushing humankind forward, developing new innovations, protecting lives, preventing diseases and helping to keep the planet itself safe and clean.', 'Certainly, industry has been responsible for problems such as fossil fuel use and the associated climate change, but it is to engineering we must turn to solve the crisis and deliver sustainable alternatives.', 'As real world problem solvers, engineers continue to be important across all parts of society.', 'Why engineering is a good career\\n\\nAside from the good job prospects and security, as well as the higher average wages, engineering is a good career because it gives you the opportunity to work for the benefit of society.', 'Whether it is through improved transportation systems, delivering better medical devices and technologies, finding new cleaner energy sources, increasing living standards for underdeveloped nations or solving the problem of global hunger, engineering plays a part in changing people’s lives for the better.', 'The career can bring you a great many personal benefits, such as travel, high rates of pay and good job security, but it also gives you the opportunity to use your knowledge, skills and experience to make a real difference to the world.']\n"
          ]
        }
      ],
      "source": [
        "#print list\n",
        "print(sentence_list)"
      ]
    },
    {
      "cell_type": "code",
      "execution_count": 11,
      "metadata": {
        "id": "mTRxeu9uKUNe"
      },
      "outputs": [],
      "source": [
        "#fucntion to return random greeting response \n",
        "def greeting_response(text):\n",
        "  text = text.lower()\n",
        "\n",
        "  #bots greeting\n",
        "  bot_greetings = ['howdy', 'hi', 'as salam o alaikum', 'hello', 'hola' ]\n",
        "  #users greeting\n",
        "  user_greetings = ['hi', 'hey', 'hello', 'greetings', 'wassup', 'salam o alaikum', 'salam']\n",
        "\n",
        "  for word in text.split():\n",
        "    if word in user_greetings:\n",
        "      return random.choice(bot_greetings)\n"
      ]
    },
    {
      "cell_type": "code",
      "execution_count": 12,
      "metadata": {
        "id": "yBqKU4fQL_Ji"
      },
      "outputs": [],
      "source": [
        "def index_sort(list_var):\n",
        "  length = len(list_var)\n",
        "  list_index = list(range(0,length))\n",
        "  x = list_var\n",
        "  #sort list \n",
        "  for i in range(length):\n",
        "    for j in range(length):\n",
        "      if x[list_index[i]] > x[list_index[j]]:\n",
        "        #swap\n",
        "        temp = list_index[i]\n",
        "        list_index[i] = list_index[j]\n",
        "        list_index[j] = temp\n",
        "  return list_index"
      ]
    },
    {
      "cell_type": "code",
      "execution_count": 13,
      "metadata": {
        "id": "Q_xe-q_zLChF"
      },
      "outputs": [],
      "source": [
        "#create bots responses\n",
        "def bot_response(user_input):\n",
        "  user_input = user_input.lower()\n",
        "  sentence_list.append(user_input)\n",
        "  bot_response = ''\n",
        "  cm = CountVectorizer().fit_transform(sentence_list)\n",
        "  similarity_scores = cosine_similarity(cm[-1], cm)\n",
        "  similarity_scores_list = similarity_scores.flatten()\n",
        "  index = index_sort(similarity_scores_list)\n",
        "  index = index[1:]\n",
        "  response_flag = 0\n",
        "\n",
        "  j = 0 # if we found  two or less similar sentences\n",
        "  for i in range(len(index)):\n",
        "    if similarity_scores_list[index[i]] > 0.0:\n",
        "      bot_response = bot_response + ' ' + sentence_list[index[i]]\n",
        "      response_flag = 1\n",
        "      j = j + 1\n",
        "    if j > 2:\n",
        "      break\n",
        "  \n",
        "  if response_flag == 0:\n",
        "    bot_response = bot_response + ' ' + 'معاف کریے گا میں سمجھ نھیں پایا '\n",
        "  \n",
        "  sentence_list.remove(user_input)\n",
        "\n",
        "  return bot_response\n",
        "\n",
        "\n"
      ]
    },
    {
      "cell_type": "code",
      "execution_count": 14,
      "metadata": {
        "colab": {
          "base_uri": "https://localhost:8080/"
        },
        "id": "NRQ5GqfyPYpF",
        "outputId": "6b640d08-a3dc-4424-8859-b927bd9d6006"
      },
      "outputs": [
        {
          "name": "stdout",
          "output_type": "stream",
          "text": [
            "Eng.Bot: I am Eng.Bot. I will answer you queries about engineering.\n",
            "19:20:58\n",
            "Eng.Bot: howdy\n",
            "Eng.Bot: howdy\n",
            "Eng.Bot:  contactus@twi.co.uk\n",
            "\n",
            "FAQs\n",
            "\n",
            "How does engineering help the world?\n",
            "Eng.Bot:  Is engineering hard to study? Geotechnical Engineering\n",
            "\n",
            "Geotechnical engineering is an area of civil engineering that focuses on the engineering behaviour of earth materials. Marine Engineering\n",
            "\n",
            "Marine engineering is related to any engineering tasks on or near the oceans.\n",
            "Eng.Bot: chat you later, !خدا حافظ\n",
            "19:20:58\n"
          ]
        }
      ],
      "source": [
        "import time\n",
        "#start chat\n",
        "print('Eng.Bot: I am Eng.Bot. I will answer you queries about engineering.')\n",
        "cur_time = time.strftime(\"%H:%M:%S\", time.localtime())\n",
        "print(cur_time)\n",
        "exit_list = ['exit', 'see you later', 'quit', 'bye', 'break', 'khuda hafiz', 'allah hafiz', 'phir mulaqat hoti hai']\n",
        "while(True):\n",
        "   user_input = input()\n",
        "   if user_input.lower() in exit_list:\n",
        "     print('Eng.Bot: chat you later, !خدا حافظ')\n",
        "     print(cur_time)\n",
        "     break\n",
        "   else:\n",
        "      if greeting_response(user_input) != None:\n",
        "        print('Eng.Bot: ' + greeting_response(user_input))\n",
        "      else: \n",
        "        print('Eng.Bot: ' + bot_response(user_input))"
      ]
    }
  ],
  "metadata": {
    "colab": {
      "provenance": []
    },
    "kernelspec": {
      "display_name": "Python 3",
      "language": "python",
      "name": "python3"
    },
    "language_info": {
      "codemirror_mode": {
        "name": "ipython",
        "version": 3
      },
      "file_extension": ".py",
      "mimetype": "text/x-python",
      "name": "python",
      "nbconvert_exporter": "python",
      "pygments_lexer": "ipython3",
      "version": "3.11.1"
    },
    "vscode": {
      "interpreter": {
        "hash": "5238573367df39f7286bb46f9ff5f08f63a01a80960060ce41e3c79b190280fa"
      }
    }
  },
  "nbformat": 4,
  "nbformat_minor": 0
}
